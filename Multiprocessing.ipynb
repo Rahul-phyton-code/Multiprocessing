{
  "nbformat": 4,
  "nbformat_minor": 0,
  "metadata": {
    "colab": {
      "provenance": [],
      "authorship_tag": "ABX9TyMdhU6+UmN/QfoEelUCL3bM",
      "include_colab_link": true
    },
    "kernelspec": {
      "name": "python3",
      "display_name": "Python 3"
    },
    "language_info": {
      "name": "python"
    }
  },
  "cells": [
    {
      "cell_type": "markdown",
      "metadata": {
        "id": "view-in-github",
        "colab_type": "text"
      },
      "source": [
        "<a href=\"https://colab.research.google.com/github/Rahul-phyton-code/Multiprocessing/blob/main/Multiprocessing.ipynb\" target=\"_parent\"><img src=\"https://colab.research.google.com/assets/colab-badge.svg\" alt=\"Open In Colab\"/></a>"
      ]
    },
    {
      "cell_type": "markdown",
      "source": [
        "1.) Multiprocessing refers to the ability of a system to support more than one processor at the same time. Applications in a multiprocessing system are broken to smaller routines that run independently. The operating system allocates these threads to the processors improving performance of the system."
      ],
      "metadata": {
        "id": "rwNvDQLclLms"
      }
    },
    {
      "cell_type": "markdown",
      "source": [
        "2.) Multiprocessing\t\n",
        "1.\tIn Multiprocessing, CPUs are added for increasing computing power.\t\n",
        "2.\tIn Multiprocessing, Many processes are executed simultaneously.\t\n",
        "3.\tMultiprocessing are classified into Symmetric and Asymmetric.\t\n",
        "4.\tIn Multiprocessing, Process creation is a time-consuming process.\t\n",
        "5.\tIn Multiprocessing, every process owned a separate address space.\t\n",
        "\n",
        "   Multithreading\n",
        "1. While In Multithreading, many threads are created of a single process for increasing computing power.\n",
        "2. While in multithreading, many threads of a process are executed simultaneously.\n",
        "3. While Multithreading is not classified in any categories.\n",
        "4. While in Multithreading, process creation is according to economical.\n",
        "5. While in Multithreading, a common address space is shared by all the threads."
      ],
      "metadata": {
        "id": "s7jBUvP8l-Pu"
      }
    },
    {
      "cell_type": "markdown",
      "source": [
        "3.)"
      ],
      "metadata": {
        "id": "i1rn2-qFnkgT"
      }
    },
    {
      "cell_type": "code",
      "source": [
        "import multiprocessing\n",
        "def producer(q):\n",
        "  for i in [\"rahul\",\"sonia\",\"akansha\",\"dhruv\"]:\n",
        "      q.put(i)\n",
        "def consume(q):\n",
        "  while True:\n",
        "    item = q.get()\n",
        "    if item is None:\n",
        "      break\n",
        "    print(item)\n",
        "if __name__ == '__main__':\n",
        "    queue = multiprocessing.Queue()\n",
        "    \n",
        "m1 = multiprocessing.Process(target=producer,args=(queue,))\n",
        "m2 = multiprocessing.Process(target=consume,args=(queue,))          \n",
        "m1.start()\n",
        "m2.start()\n",
        "queue.put(\"jaanu\")\n",
        "m1.join()\n",
        "m2.join()"
      ],
      "metadata": {
        "colab": {
          "base_uri": "https://localhost:8080/"
        },
        "id": "weDFs3d6nl-P",
        "outputId": "9538712a-b69e-475a-cad0-c2a32c001b7d"
      },
      "execution_count": null,
      "outputs": [
        {
          "output_type": "stream",
          "name": "stdout",
          "text": [
            "rahul\n",
            "sonia\n",
            "akansha\n",
            "dhruv\n",
            "jaanu\n"
          ]
        }
      ]
    },
    {
      "cell_type": "markdown",
      "source": [
        "4.) Python multiprocessing Pool can be used for parallel execution of a function across multiple input values, distributing the input data across processes (data parallelism).\n",
        "The Pool class in multiprocessing can handle an enormous number of processes. It allows you to run multiple jobs per process "
      ],
      "metadata": {
        "id": "LY1OQ4LTt7J9"
      }
    },
    {
      "cell_type": "markdown",
      "source": [
        "5.) A process pool is a programming pattern for automatically managing a pool of worker processes.\n",
        "\n",
        "The pool is responsible for a fixed number of processes.\n",
        "\n",
        "It controls when they are created, such as when they are needed.\n",
        "It also controls what they should do when they are not being used, such as making them wait without consuming computational resources.\n",
        "The pool can provide a generic interface for executing ad hoc tasks with a variable number of arguments, much like the target property on the Process object, but does not require that we choose a process to run the task, start the process, or wait for the task to complete."
      ],
      "metadata": {
        "id": "6bNXwHLOvlBM"
      }
    },
    {
      "cell_type": "markdown",
      "source": [
        "5.)"
      ],
      "metadata": {
        "id": "kSEILeUYxMUF"
      }
    },
    {
      "cell_type": "code",
      "source": [
        "import multiprocessing\n",
        "def number1(num1):\n",
        "  print(\"This function give 1st number:\",num1)\n",
        "def number2(num2):\n",
        "  print(\"This function give 2nd number:\",num2)\n",
        "def number3(num3):\n",
        "  print(\"This function give 3rd number:\",num3)\n",
        "def number4(num4):\n",
        "  print(\"This function give 4th number:\",num4)      \n",
        "\n",
        "if __name__ == '__main__':\n",
        "  m1 = multiprocessing.Process(target=number1,args=(5,))\n",
        "  m2 = multiprocessing.Process(target=number2,args=(6,))\n",
        "  m3 = multiprocessing.Process(target=number3,args=(7,))\n",
        "  m4 = multiprocessing.Process(target=number4,args=(8,))\n",
        "  m1.start()  \n",
        "  m2.start()\n",
        "  m3.start()\n",
        "  m4.start()\n",
        "  m1.join()\n",
        "  m2.join()\n",
        "  m3.join()\n",
        "  m4.join()\n"
      ],
      "metadata": {
        "id": "Ph6-U5jtxNjy"
      },
      "execution_count": null,
      "outputs": []
    }
  ]
}